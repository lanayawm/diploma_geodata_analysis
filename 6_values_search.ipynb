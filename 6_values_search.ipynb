{
 "cells": [
  {
   "cell_type": "code",
   "execution_count": 18,
   "metadata": {},
   "outputs": [],
   "source": [
    "import numpy as np\n",
    "import pandas as pd\n",
    "from scipy import stats\n",
    "import matplotlib.pyplot as plt\n",
    "from statistics import mode"
   ]
  },
  {
   "cell_type": "code",
   "execution_count": 14,
   "metadata": {},
   "outputs": [],
   "source": [
    "# Осреднение к нескольким значениям\n",
    "def bin_averaging(data):\n",
    "    min_data = min(data)\n",
    "    max_data = max(data)\n",
    "    # Поиск значений, к которым осредняем данные\n",
    "    bins = np.logspace(np.log10(min(data)), np.log10(max(data)), num=100)\n",
    "    key_nums = []\n",
    "    for i in range(len(bins) - 1):\n",
    "        number = (bins[i] * bins[i + 1]) ** (1/2)\n",
    "        key_nums.append(number)\n",
    "    # Осреднение    \n",
    "    result = []\n",
    "    for value in data:\n",
    "        for i in range(len(bins) - 1):\n",
    "            if bins[i] <= value < bins[i + 1]:\n",
    "                result.append(key_nums[i])\n",
    "    return result"
   ]
  },
  {
   "cell_type": "code",
   "execution_count": 23,
   "metadata": {},
   "outputs": [],
   "source": [
    "def razdel(file, data):\n",
    "    X = file['X'].unique()\n",
    "    Y = file['Y'].unique()\n",
    "\n",
    "    data_1 = file[(file['X'] <= 500) & (file['Y'] > -50)]\n",
    "    data_2 = file[(file['X'] <= 500) & (file['Y'] <= -50) & (file['Y'] > -80)]\n",
    "    data_3 = file[(file['X'] > 500) & (file['X'] <= 1000) & (file['Y'] > -50)]\n",
    "    data_4 = file[(file['X'] > 500) & (file['X'] <= 1000) & (file['Y'] <= -50) & (file['Y'] > -80)]\n",
    "    data_5 = file[(file['X'] > 1000) & (file['X'] <= 1500) & (file['Y'] > -50)]\n",
    "    data_6 = file[(file['X'] > 1000) & (file['X'] <= 1500) & (file['Y'] <= -50) & (file['Y'] > -80)]\n",
    "    data_7 = file[(file['X'] > 1500) & (file['Y'] > -50)]\n",
    "    data_8 = file[(file['X'] > 1500) & (file['Y'] <= -50) & (file['Y'] > -80)]\n",
    "    return [data_1, data_2, data_3, data_4, data_5, data_6, data_7, data_8]"
   ]
  },
  {
   "cell_type": "code",
   "execution_count": 25,
   "metadata": {},
   "outputs": [],
   "source": [
    "file = pd.read_excel('pr_2750.xlsx', sheet_name='main')\n",
    "data = file['OC']\n",
    "result = razdel(file, data)"
   ]
  },
  {
   "cell_type": "code",
   "execution_count": 22,
   "metadata": {},
   "outputs": [
    {
     "data": {
      "image/png": "[encoded data removed]",
      "text/plain": [
       "<Figure size 640x480 with 1 Axes>"
      ]
     },
     "metadata": {},
     "output_type": "display_data"
    }
   ],
   "source": [
    "hist_1 = result[0]\n",
    "main_data = hist_1['OC']\n",
    "bins = np.logspace(np.log10(min(main_data)), np.log10(max(main_data)), num=50)\n",
    "# plt.yscale('log')\n",
    "plt.xscale('log')\n",
    "plt.hist(hist_1['OC'], bins=bins, cumulative=True, edgecolor='black', density=True)\n",
    "plt.xticks([30, 50, 100, 300, 1000, 3000], labels=['30', '50', '100', '300', '1000', '3000'])\n",
    "plt.yticks([0.1, 0.2, 0.3, 0.4, 0.5, 0.6, 0.7, 0.8, 0.9, 1])\n",
    "plt.show()\n"
   ]
  },
  {
   "cell_type": "code",
   "execution_count": null,
   "metadata": {},
   "outputs": [],
   "source": [
    "for i in range(len(result)):\n",
    "    file_path = 'D:/Learning/pythonich/Работа_с_библиотеками/for_diploma/for_dk.xlsx'\n",
    "    sheet_name = f\"{i+1}\"\n",
    "    with pd.ExcelWriter(file_path, mode='a', if_sheet_exists='replace') as writer:\n",
    "        result[i].to_excel(writer, sheet_name=sheet_name, index=False)"
   ]
  },
  {
   "cell_type": "code",
   "execution_count": 30,
   "metadata": {},
   "outputs": [
    {
     "name": "stdout",
     "output_type": "stream",
     "text": [
      "Среднее            Медиана           Мода\n",
      "393.3808733159076 337.651860092445 520.6879134781237\n",
      "462.8763393536592 460.2431860479 560.7674122901118\n",
      "93.26500666055583 63.3403397213135 53.57740907882143\n",
      "393.63107133054234 365.87962946380003 389.7045142323423\n",
      "450.2710639253892 202.73080938466 60.95023554148358\n",
      "850.1357306810634 713.78670658309 1647.4973010366261\n",
      "60.64328721356092 40.362177055692 33.46954449884316\n",
      "280.7763667097354 265.47591869992 293.00772346405427\n"
     ]
    }
   ],
   "source": [
    "print(f\"Среднее            Медиана           Мода\")\n",
    "for i in range(len(result)):\n",
    "    moda = mode(bin_averaging(result[i]['OC']))\n",
    "    print(np.mean(result[i]['OC']), np.median(result[i]['OC']), moda)"
   ]
  }
 ],
 "metadata": {
  "kernelspec": {
   "display_name": "Python 3",
   "language": "python",
   "name": "python3"
  },
  "language_info": {
   "codemirror_mode": {
    "name": "ipython",
    "version": 3
   },
   "file_extension": ".py",
   "mimetype": "text/x-python",
   "name": "python",
   "nbconvert_exporter": "python",
   "pygments_lexer": "ipython3",
   "version": "3.12.2"
  }
 },
 "nbformat": 4,
 "nbformat_minor": 2
}
