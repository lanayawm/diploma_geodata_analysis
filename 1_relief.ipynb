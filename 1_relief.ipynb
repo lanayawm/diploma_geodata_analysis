{
 "cells": [
  {
   "cell_type": "code",
   "execution_count": 7,
   "metadata": {},
   "outputs": [],
   "source": [
    "import pandas as pd"
   ]
  },
  {
   "cell_type": "code",
   "execution_count": 8,
   "metadata": {},
   "outputs": [],
   "source": [
    "file = pd.read_excel('D:/Learning/pythonich/Работа_с_библиотеками/for_diploma/pr_3000.xlsx', sheet_name='main')\n",
    "depth = file['Y']\n",
    "prof = file['X']"
   ]
  },
  {
   "cell_type": "code",
   "execution_count": 9,
   "metadata": {},
   "outputs": [
    {
     "name": "stdout",
     "output_type": "stream",
     "text": [
      "41\n"
     ]
    }
   ],
   "source": [
    "first_num = prof[0]\n",
    "i = 0\n",
    "while prof[i] == first_num:\n",
    "    i += 1\n",
    "\n",
    "print(i)\n",
    "n = i"
   ]
  },
  {
   "cell_type": "code",
   "execution_count": 10,
   "metadata": {},
   "outputs": [
    {
     "name": "stdout",
     "output_type": "stream",
     "text": [
      "[0, -2.5, -5.0, -7.5, -10.0, -12.5, -15.0, -17.5, -20.0, -22.5, -25.0, -27.5, -30.0, -32.5, -35.0, -37.5, -40.0, -42.5, -45.0, -47.5, -50.0, -52.5, -55.0, -57.5, -60.0, -62.5, -65.0, -67.5, -70.0, -72.5, -75.0, -77.5, -80.0, -82.5, -85.0, -87.5, -90.0, -92.5, -95.0, -97.5, -100.0]\n"
     ]
    }
   ],
   "source": [
    "relief = []\n",
    "d = 0\n",
    "for i in range(n):\n",
    "    relief.append(d)\n",
    "    d -= 2.5\n",
    "\n",
    "print(relief)"
   ]
  },
  {
   "cell_type": "code",
   "execution_count": 11,
   "metadata": {},
   "outputs": [
    {
     "name": "stdout",
     "output_type": "stream",
     "text": [
      "0          0.0\n",
      "1         -2.5\n",
      "2         -5.0\n",
      "3         -7.5\n",
      "4        -10.0\n",
      "         ...  \n",
      "33410    -90.0\n",
      "33411    -92.5\n",
      "33412    -95.0\n",
      "33413    -97.5\n",
      "33414   -100.0\n",
      "Name: Y, Length: 33415, dtype: float64\n"
     ]
    }
   ],
   "source": [
    "# depth = depth.copy()\n",
    "for j in range(len(depth) // len(relief)):\n",
    "    for i in range(len(relief)):\n",
    "        depth[i + n * j] = relief[i]\n",
    "print(depth)"
   ]
  },
  {
   "cell_type": "code",
   "execution_count": 12,
   "metadata": {},
   "outputs": [],
   "source": [
    "file['Y'] = depth\n",
    "file_path = ''\n",
    "sheet_name = 'main'\n",
    "with pd.ExcelWriter(file_path, mode='a', if_sheet_exists='replace') as writer:\n",
    "    file.to_excel(writer, sheet_name=sheet_name, index=False)"
   ]
  }
 ],
 "metadata": {
  "kernelspec": {
   "display_name": "Python 3",
   "language": "python",
   "name": "python3"
  },
  "language_info": {
   "codemirror_mode": {
    "name": "ipython",
    "version": 3
   },
   "file_extension": ".py",
   "mimetype": "text/x-python",
   "name": "python",
   "nbconvert_exporter": "python",
   "pygments_lexer": "ipython3",
   "version": "3.12.2"
  }
 },
 "nbformat": 4,
 "nbformat_minor": 2
}
