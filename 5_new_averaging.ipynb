{
 "cells": [
  {
   "cell_type": "code",
   "execution_count": 1,
   "metadata": {},
   "outputs": [],
   "source": [
    "import pandas as pd\n",
    "import numpy as np"
   ]
  },
  {
   "cell_type": "code",
   "execution_count": 18,
   "metadata": {},
   "outputs": [],
   "source": [
    "# Осреднение к нескольким значениям\n",
    "def bin_averaging(data):\n",
    "    min_data = min(data)\n",
    "    max_data = max(data)\n",
    "    # Поиск значений, к которым осредняем данные\n",
    "    bins = np.logspace(np.log10(min(data)) - 0.0001, np.log10(max(data)) + 0.0001, num=6)\n",
    "    key_nums = []\n",
    "    for i in range(len(bins) - 1):\n",
    "        number = (bins[i] * bins[i + 1]) ** (1/2)\n",
    "        key_nums.append(number)\n",
    "    # Осреднение\n",
    "    #bins = [12.76, 45.02, 128.61, 367.40, 1049.53, 22998] #2750\n",
    "    #key_nums = [26.64, 76.10, 217.37, 620.96, 1773.88]    #2750\n",
    "    bins = [12.76, 45.02, 120, 450.40, 1049.53, 22998]    #3000\n",
    "    key_nums = [28, 100, 280, 700, 1500]                  #3000\n",
    "    #bins = [26.4094068, 69.15747178, 181.10046694, 474.24202018, 1241.88246172, 3252.07801734]                    #2500\n",
    "    # key_nums = [42.736492664845166, 111.91269111019771, 293.062196978768, 767.4326338328589, 2009.6513762036247] #2500\n",
    "    result = []\n",
    "    for value in data:\n",
    "        for i in range(len(bins) - 1):\n",
    "            if bins[i] <= value < bins[i + 1]:\n",
    "                result.append(key_nums[i])\n",
    "    return result"
   ]
  },
  {
   "cell_type": "code",
   "execution_count": 63,
   "metadata": {},
   "outputs": [],
   "source": [
    "# Осреднение квадратом\n",
    "def square(file, data_z, size_x=5, size_y=5):\n",
    "    X = file['X'].unique()\n",
    "    Y = file['Y'].unique()\n",
    "\n",
    "    result = data_z.copy()\n",
    "\n",
    "    for i in range(0, len(X), size_x):\n",
    "        for j in range(0, len(Y), size_y):\n",
    "            mask = file['X'].isin(X[i:i+size_x]) & file['Y'].isin(Y[j:j+size_y])\n",
    "            mean_value = data_z[mask].mean()\n",
    "            result[mask] = mean_value  # Заполняем весь квадрат одним значением\n",
    "\n",
    "    return result"
   ]
  },
  {
   "cell_type": "code",
   "execution_count": 1,
   "metadata": {},
   "outputs": [
    {
     "ename": "NameError",
     "evalue": "name 'pd' is not defined",
     "output_type": "error",
     "traceback": [
      "\u001b[1;31m---------------------------------------------------------------------------\u001b[0m",
      "\u001b[1;31mNameError\u001b[0m                                 Traceback (most recent call last)",
      "Cell \u001b[1;32mIn[1], line 3\u001b[0m\n\u001b[0;32m      1\u001b[0m \u001b[38;5;66;03m# Выбор данных и функций\u001b[39;00m\n\u001b[1;32m----> 3\u001b[0m file \u001b[38;5;241m=\u001b[39m \u001b[43mpd\u001b[49m\u001b[38;5;241m.\u001b[39mread_excel(\u001b[38;5;124m'\u001b[39m\u001b[38;5;124mD:/Learning/pythonich/Работа_с_библиотеками/for_diploma/pr_2500.xlsx\u001b[39m\u001b[38;5;124m'\u001b[39m, sheet_name\u001b[38;5;241m=\u001b[39m\u001b[38;5;124m'\u001b[39m\u001b[38;5;124mmain\u001b[39m\u001b[38;5;124m'\u001b[39m)\n\u001b[0;32m      4\u001b[0m \u001b[38;5;66;03m# file_mq = file[file['Y'] >= -95]\u001b[39;00m\n\u001b[0;32m      5\u001b[0m data \u001b[38;5;241m=\u001b[39m file[\u001b[38;5;124m'\u001b[39m\u001b[38;5;124mFOC\u001b[39m\u001b[38;5;124m'\u001b[39m]\n",
      "\u001b[1;31mNameError\u001b[0m: name 'pd' is not defined"
     ]
    }
   ],
   "source": [
    "# Выбор данных и функций\n",
    "\n",
    "file = pd.read_excel('pr_2500.xlsx', sheet_name='main')\n",
    "# file_mq = file[file['Y'] >= -95]\n",
    "data = file['FOC']\n",
    "result = bin_averaging(data)\n",
    "print(len(result))\n",
    "print(max(result))\n",
    "#print(result)\n",
    "file['result'] = result\n",
    "# file_mq['result'] = result\n",
    "\n",
    "#file_d = file[(file['Y'] != -100) & (file['X'] < 2150)]\n",
    "#data_d = file_d['OC']\n",
    "#result_d = square(file_d, data_d)\n",
    "#file_d['result'] = result_d"
   ]
  },
  {
   "cell_type": "code",
   "execution_count": 24,
   "metadata": {},
   "outputs": [],
   "source": [
    "# Сохраняем в Excel бин осреднение\n",
    "file_path = 'D:/Learning/pythonich/Работа_с_библиотеками/for_diploma/pr_2500.xlsx'\n",
    "sheet_name = 'main'\n",
    "with pd.ExcelWriter(file_path, mode='a', if_sheet_exists='replace') as writer:\n",
    "    file.to_excel(writer, sheet_name=sheet_name, index=False)"
   ]
  },
  {
   "cell_type": "code",
   "execution_count": null,
   "metadata": {},
   "outputs": [],
   "source": [
    "# Сохранение для КВАДРАТА\n",
    "file_path = 'D:/Learning/pythonich/Работа_с_библиотеками/for_diploma/pr_2750.xlsx'\n",
    "sheet_name_d = 'square'\n",
    "with pd.ExcelWriter(file_path, mode='a', engine='openpyxl', if_sheet_exists='replace') as writer:\n",
    "    file_d.to_excel(writer, sheet_name=sheet_name_d, index=False)"
   ]
  }
 ],
 "metadata": {
  "kernelspec": {
   "display_name": "Python 3",
   "language": "python",
   "name": "python3"
  },
  "language_info": {
   "codemirror_mode": {
    "name": "ipython",
    "version": 3
   },
   "file_extension": ".py",
   "mimetype": "text/x-python",
   "name": "python",
   "nbconvert_exporter": "python",
   "pygments_lexer": "ipython3",
   "version": "3.12.2"
  }
 },
 "nbformat": 4,
 "nbformat_minor": 2
}
