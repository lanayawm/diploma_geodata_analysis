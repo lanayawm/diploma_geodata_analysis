{
 "cells": [
  {
   "cell_type": "code",
   "execution_count": 1,
   "metadata": {},
   "outputs": [],
   "source": [
    "import pandas as pd\n",
    "import numpy as np\n",
    "from math import log10"
   ]
  },
  {
   "cell_type": "code",
   "execution_count": 2,
   "metadata": {},
   "outputs": [],
   "source": [
    "# Oсреднение по вертикали vertical\n",
    "def vertical(file, data_z):\n",
    "    Y = file[file['X'] == 0]['Y']\n",
    "    X = file['X'].unique()\n",
    "    result = []\n",
    "    stack = []\n",
    "    \n",
    "    for i in range(len(X)):\n",
    "        for j in range(len(Y)):\n",
    "            element = data_z[j + i * len(Y)]\n",
    "            if len(stack) > 1 and (np.mean(stack) * 1.2 <= element or np.mean(stack) * 0.8 >= element):\n",
    "                average_for_stack = np.mean(stack)\n",
    "                stack = [average_for_stack] * len(stack)\n",
    "                result.extend(stack)\n",
    "                stack.clear()\n",
    "                stack.append(element)\n",
    "            else:\n",
    "                stack.append(element)\n",
    "        average_for_stack = np.mean(stack)\n",
    "        stack = [average_for_stack] * len(stack)        \n",
    "        result.extend(stack)\n",
    "        stack.clear()\n",
    "        \n",
    "    return result"
   ]
  },
  {
   "cell_type": "code",
   "execution_count": 3,
   "metadata": {},
   "outputs": [],
   "source": [
    "# Осреднение по горизонтали horizontal\n",
    "def horizontal(file, data_z):\n",
    "    Y = file[file['X'] == 0]['Y']\n",
    "    X = file['X'].unique()\n",
    "    stack = []\n",
    "    result = []\n",
    "\n",
    "    # осреднение\n",
    "    for y in Y:\n",
    "        row = data_z[file['Y'] == y]\n",
    "        for element in row:\n",
    "            if len(stack) > 1 and (np.mean(stack) * 1.2 <= element or np.mean(stack) * 0.8 >= element):\n",
    "                average_for_stack = np.mean(stack)\n",
    "                stack = [average_for_stack] * len(stack)\n",
    "                result.extend(stack)\n",
    "                stack.clear()\n",
    "                stack.append(element)\n",
    "            else:\n",
    "                stack.append(element)\n",
    "        average_for_stack = np.mean(stack)\n",
    "        stack = [average_for_stack] * len(stack)        \n",
    "        result.extend(stack)\n",
    "        stack.clear()\n",
    "    \n",
    "    # сборка в правильный столбец\n",
    "    finish = []\n",
    "    for i in range(len(X)):\n",
    "        for j in range(len(Y)):\n",
    "            finish.append(result[j * len(X) + i])\n",
    "    \n",
    "    return finish"
   ]
  },
  {
   "cell_type": "code",
   "execution_count": 14,
   "metadata": {},
   "outputs": [],
   "source": [
    "def bin_averaging(data):\n",
    "    min_data = min(data)\n",
    "    max_data = max(data)\n",
    "    # Поиск значений, к которым осредняем данные\n",
    "    bins = np.logspace(np.log10(min(data)) - 0.0001, np.log10(max(data)) + 0.0001, num=6)\n",
    "    key_nums = []\n",
    "    for i in range(len(bins) - 1):\n",
    "        number = (bins[i] * bins[i + 1]) ** (1/2)\n",
    "        key_nums.append(number)\n",
    "    # Осреднение\n",
    "    #bins = [12.76, 45.02, 128.61, 367.40, 1049.53, 22998] #2750\n",
    "    #key_nums = [26.64, 76.10, 217.37, 620.96, 1773.88]    #2750\n",
    "    bins = [12.76, 45.02, 120, 450.40, 1049.53, 22998]    #3000\n",
    "    key_nums = [28, 100, 280, 700, 1500]                  #3000\n",
    "    #bins = [26.4094068, 69.15747178, 181.10046694, 474.24202018, 1241.88246172, 3252.07801734]                    #2500\n",
    "    #key_nums = [42.736492664845166, 111.91269111019771, 293.062196978768, 767.4326338328589, 2009.6513762036247] #2500\n",
    "    result = []\n",
    "    for value in data:\n",
    "        for i in range(len(bins) - 1):\n",
    "            if bins[i] <= value < bins[i + 1]:\n",
    "                result.append(key_nums[i])\n",
    "    return result"
   ]
  },
  {
   "cell_type": "code",
   "execution_count": 15,
   "metadata": {},
   "outputs": [],
   "source": [
    "# Здесь задаем файл и столбец с данными + выбор функций\n",
    "\n",
    "file = pd.read_excel('D:/Learning/pythonich/Работа_с_библиотеками/for_diploma/pr_3000.xlsx', sheet_name='main')\n",
    "data_z = file['OC']\n",
    "# file_mq = file[file['Y'] >= -95]\n",
    "# data_mq = \n",
    "# new_data_column = vertical(file, data_z)\n",
    "# new_data_column = horizontal(file, data_z)\n",
    "# new_data_column = vertical(file, horizontal(file, data_z))\n",
    "#new_data_column = horizontal(file, pd.Series(vertical(file, data_z)))\n",
    "new_data_column = bin_averaging(pd.Series(horizontal(file, pd.Series(vertical(file, data_z)))))\n",
    "file['result'] = new_data_column"
   ]
  },
  {
   "cell_type": "code",
   "execution_count": 16,
   "metadata": {},
   "outputs": [],
   "source": [
    "# Сохраняем в Excel\n",
    "file_path = 'D:/Learning/pythonich/Работа_с_библиотеками/for_diploma/pr_3000.xlsx'\n",
    "sheet_name = 'main'\n",
    "with pd.ExcelWriter(file_path, mode='a', if_sheet_exists='replace') as writer:\n",
    "    file.to_excel(writer, sheet_name=sheet_name, index=False)"
   ]
  }
 ],
 "metadata": {
  "kernelspec": {
   "display_name": "Python 3",
   "language": "python",
   "name": "python3"
  },
  "language_info": {
   "codemirror_mode": {
    "name": "ipython",
    "version": 3
   },
   "file_extension": ".py",
   "mimetype": "text/x-python",
   "name": "python",
   "nbconvert_exporter": "python",
   "pygments_lexer": "ipython3",
   "version": "3.12.2"
  }
 },
 "nbformat": 4,
 "nbformat_minor": 2
}
